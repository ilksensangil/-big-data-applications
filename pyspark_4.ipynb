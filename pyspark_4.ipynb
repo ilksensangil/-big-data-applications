{
  "nbformat": 4,
  "nbformat_minor": 0,
  "metadata": {
    "colab": {
      "provenance": []
    },
    "kernelspec": {
      "name": "python3",
      "display_name": "Python 3"
    },
    "language_info": {
      "name": "python"
    }
  },
  "cells": [
    {
      "cell_type": "code",
      "execution_count": 1,
      "metadata": {
        "colab": {
          "base_uri": "https://localhost:8080/",
          "height": 427
        },
        "id": "WepquQf35sZU",
        "outputId": "9ed925e4-934a-4df6-a3d4-1bf0b226f65e"
      },
      "outputs": [
        {
          "output_type": "stream",
          "name": "stdout",
          "text": [
            "Collecting pyspark\n",
            "  Downloading pyspark-3.5.0.tar.gz (316.9 MB)\n",
            "\u001b[2K     \u001b[90m━━━━━━━━━━━━━━━━━━━━━━━━━━━━━━━━━━━━━━━━\u001b[0m \u001b[32m316.9/316.9 MB\u001b[0m \u001b[31m3.2 MB/s\u001b[0m eta \u001b[36m0:00:00\u001b[0m\n",
            "\u001b[?25h  Preparing metadata (setup.py) ... \u001b[?25l\u001b[?25hdone\n",
            "Requirement already satisfied: py4j==0.10.9.7 in /usr/local/lib/python3.10/dist-packages (from pyspark) (0.10.9.7)\n",
            "Building wheels for collected packages: pyspark\n",
            "  Building wheel for pyspark (setup.py) ... \u001b[?25l\u001b[?25hdone\n",
            "  Created wheel for pyspark: filename=pyspark-3.5.0-py2.py3-none-any.whl size=317425345 sha256=f1d5eed94ef7f656ac8b037a4da586466a7fbe8349402350275054fd02e1d019\n",
            "  Stored in directory: /root/.cache/pip/wheels/41/4e/10/c2cf2467f71c678cfc8a6b9ac9241e5e44a01940da8fbb17fc\n",
            "Successfully built pyspark\n",
            "Installing collected packages: pyspark\n",
            "Successfully installed pyspark-3.5.0\n"
          ]
        },
        {
          "output_type": "execute_result",
          "data": {
            "text/plain": [
              "<pyspark.sql.session.SparkSession at 0x7caa24164c10>"
            ],
            "text/html": [
              "\n",
              "            <div>\n",
              "                <p><b>SparkSession - in-memory</b></p>\n",
              "                \n",
              "        <div>\n",
              "            <p><b>SparkContext</b></p>\n",
              "\n",
              "            <p><a href=\"http://c681bb6afd43:4040\">Spark UI</a></p>\n",
              "\n",
              "            <dl>\n",
              "              <dt>Version</dt>\n",
              "                <dd><code>v3.5.0</code></dd>\n",
              "              <dt>Master</dt>\n",
              "                <dd><code>local[*]</code></dd>\n",
              "              <dt>AppName</dt>\n",
              "                <dd><code>Uygulama_1</code></dd>\n",
              "            </dl>\n",
              "        </div>\n",
              "        \n",
              "            </div>\n",
              "        "
            ]
          },
          "metadata": {},
          "execution_count": 1
        }
      ],
      "source": [
        "!pip install pyspark\n",
        "\n",
        "import pyspark\n",
        "\n",
        "from pyspark.sql import SparkSession\n",
        "\n",
        "spark = SparkSession.builder.appName('Uygulama_1').getOrCreate()\n",
        "\n",
        "spark"
      ]
    },
    {
      "cell_type": "code",
      "source": [
        "df=spark.read.csv(\"dataMissed.csv\",header=True,inferSchema=True)\n",
        "df.show()"
      ],
      "metadata": {
        "colab": {
          "base_uri": "https://localhost:8080/"
        },
        "id": "eguouxvj6VKj",
        "outputId": "3419091b-0b36-437b-e4d8-05ff03d79bef"
      },
      "execution_count": 2,
      "outputs": [
        {
          "output_type": "stream",
          "name": "stdout",
          "text": [
            "+-----+----+----------+------+\n",
            "| Name| Age|Experience|Salary|\n",
            "+-----+----+----------+------+\n",
            "| Adem|  37|        10| 10000|\n",
            "| Banu|  24|         8| 11000|\n",
            "| Esat|  46|         5|  NULL|\n",
            "|Erdal|  47|         4|  8900|\n",
            "|Zehra|  33|         9| 14200|\n",
            "| Naim|NULL|      NULL|  5000|\n",
            "| NULL|  23|         2|  4000|\n",
            "| NULL|  41|        11|  NULL|\n",
            "+-----+----+----------+------+\n",
            "\n"
          ]
        }
      ]
    },
    {
      "cell_type": "code",
      "source": [
        "df.na.drop().show() # null gördüğü tüm satırları atıyor"
      ],
      "metadata": {
        "colab": {
          "base_uri": "https://localhost:8080/"
        },
        "id": "LNJBFCvR7OxU",
        "outputId": "464f65fd-a950-4ba7-ca21-e0fe3f7fade3"
      },
      "execution_count": 3,
      "outputs": [
        {
          "output_type": "stream",
          "name": "stdout",
          "text": [
            "+-----+---+----------+------+\n",
            "| Name|Age|Experience|Salary|\n",
            "+-----+---+----------+------+\n",
            "| Adem| 37|        10| 10000|\n",
            "| Banu| 24|         8| 11000|\n",
            "|Erdal| 47|         4|  8900|\n",
            "|Zehra| 33|         9| 14200|\n",
            "+-----+---+----------+------+\n",
            "\n"
          ]
        }
      ]
    },
    {
      "cell_type": "code",
      "source": [
        "# en az 3 sütun dolu ise tut aksi takdirde at\n",
        "\n",
        "df.na.drop(how=\"any\",thresh=3).show() # how=any -hangi sütun olursa olsun\n",
        "                                      # dolu olma eşiği"
      ],
      "metadata": {
        "colab": {
          "base_uri": "https://localhost:8080/"
        },
        "id": "and2gnc37R8g",
        "outputId": "5851ef75-6619-4644-8ebc-6d06be62312c"
      },
      "execution_count": 4,
      "outputs": [
        {
          "output_type": "stream",
          "name": "stdout",
          "text": [
            "+-----+---+----------+------+\n",
            "| Name|Age|Experience|Salary|\n",
            "+-----+---+----------+------+\n",
            "| Adem| 37|        10| 10000|\n",
            "| Banu| 24|         8| 11000|\n",
            "| Esat| 46|         5|  NULL|\n",
            "|Erdal| 47|         4|  8900|\n",
            "|Zehra| 33|         9| 14200|\n",
            "| NULL| 23|         2|  4000|\n",
            "+-----+---+----------+------+\n",
            "\n"
          ]
        }
      ]
    },
    {
      "cell_type": "code",
      "source": [
        "df.na.drop(subset=\"name\").show() # sadece name sütununda null olanları atmasını istiyoruz"
      ],
      "metadata": {
        "colab": {
          "base_uri": "https://localhost:8080/"
        },
        "id": "eqEv66Rd8pON",
        "outputId": "43d7dfe5-45c8-4322-85bd-c8b785227306"
      },
      "execution_count": 6,
      "outputs": [
        {
          "output_type": "stream",
          "name": "stdout",
          "text": [
            "+-----+----+----------+------+\n",
            "| Name| Age|Experience|Salary|\n",
            "+-----+----+----------+------+\n",
            "| Adem|  37|        10| 10000|\n",
            "| Banu|  24|         8| 11000|\n",
            "| Esat|  46|         5|  NULL|\n",
            "|Erdal|  47|         4|  8900|\n",
            "|Zehra|  33|         9| 14200|\n",
            "| Naim|NULL|      NULL|  5000|\n",
            "+-----+----+----------+------+\n",
            "\n"
          ]
        }
      ]
    },
    {
      "cell_type": "code",
      "source": [
        "df.na.drop(subset=[\"name\",\"experience\"]).show() # köşeli parantezi gruplama için kullandık."
      ],
      "metadata": {
        "colab": {
          "base_uri": "https://localhost:8080/"
        },
        "id": "M3efB4kR8vDP",
        "outputId": "64be9c8c-61af-43f3-e1f7-e3903dae5147"
      },
      "execution_count": 7,
      "outputs": [
        {
          "output_type": "stream",
          "name": "stdout",
          "text": [
            "+-----+---+----------+------+\n",
            "| Name|Age|Experience|Salary|\n",
            "+-----+---+----------+------+\n",
            "| Adem| 37|        10| 10000|\n",
            "| Banu| 24|         8| 11000|\n",
            "| Esat| 46|         5|  NULL|\n",
            "|Erdal| 47|         4|  8900|\n",
            "|Zehra| 33|         9| 14200|\n",
            "+-----+---+----------+------+\n",
            "\n"
          ]
        }
      ]
    },
    {
      "cell_type": "code",
      "source": [
        "from pyspark.ml.feature import Imputer # null değerleri tamamlamak için feature özelliğini import edip ımputer objesini kullanacağız\n",
        "imputer=Imputer(inputCol=\"Salary\",outputCol=\"Salary\").setStrategy(\"mean\") # ortalama şeklinde doldurmasını istedik"
      ],
      "metadata": {
        "id": "BtaYEfeL9QWE"
      },
      "execution_count": 15,
      "outputs": []
    },
    {
      "cell_type": "code",
      "source": [
        "df2 = imputer.fit(df).transform(df) # fit datayı nerden alacağını gösterir. transform ise hangi dataya uygulayacağımızı söyler."
      ],
      "metadata": {
        "id": "exv19BAeA3xx"
      },
      "execution_count": 16,
      "outputs": []
    },
    {
      "cell_type": "code",
      "source": [
        "df2.show()"
      ],
      "metadata": {
        "colab": {
          "base_uri": "https://localhost:8080/"
        },
        "id": "-WKjR977BQLy",
        "outputId": "e56ee61c-4f55-47fa-8f5d-1e9388b74d69"
      },
      "execution_count": 17,
      "outputs": [
        {
          "output_type": "stream",
          "name": "stdout",
          "text": [
            "+-----+----+----------+------+\n",
            "| Name| Age|Experience|Salary|\n",
            "+-----+----+----------+------+\n",
            "| Adem|  37|        10| 10000|\n",
            "| Banu|  24|         8| 11000|\n",
            "| Esat|  46|         5|  8850|\n",
            "|Erdal|  47|         4|  8900|\n",
            "|Zehra|  33|         9| 14200|\n",
            "| Naim|NULL|      NULL|  5000|\n",
            "| NULL|  23|         2|  4000|\n",
            "| NULL|  41|        11|  8850|\n",
            "+-----+----+----------+------+\n",
            "\n"
          ]
        }
      ]
    },
    {
      "cell_type": "code",
      "source": [
        "#aggregation operators\n",
        "\n",
        "df.agg({\"Salary\":\"mean\"}).show()"
      ],
      "metadata": {
        "colab": {
          "base_uri": "https://localhost:8080/"
        },
        "id": "b9BWb2AuCNwN",
        "outputId": "bbc7ea54-a1b1-462e-dedd-565891e036f2"
      },
      "execution_count": 18,
      "outputs": [
        {
          "output_type": "stream",
          "name": "stdout",
          "text": [
            "+-----------+\n",
            "|avg(Salary)|\n",
            "+-----------+\n",
            "|     8850.0|\n",
            "+-----------+\n",
            "\n"
          ]
        }
      ]
    },
    {
      "cell_type": "code",
      "source": [
        "df.agg({\"Salary\":\"stddev\"}).show()"
      ],
      "metadata": {
        "colab": {
          "base_uri": "https://localhost:8080/"
        },
        "id": "RVEvNAPJDTUj",
        "outputId": "467fc09e-3222-44c9-d143-a9b1a162e897"
      },
      "execution_count": 19,
      "outputs": [
        {
          "output_type": "stream",
          "name": "stdout",
          "text": [
            "+-----------------+\n",
            "|   stddev(Salary)|\n",
            "+-----------------+\n",
            "|3818.769435302425|\n",
            "+-----------------+\n",
            "\n"
          ]
        }
      ]
    },
    {
      "cell_type": "code",
      "source": [],
      "metadata": {
        "id": "OvvSU5XSDiAb"
      },
      "execution_count": null,
      "outputs": []
    }
  ]
}