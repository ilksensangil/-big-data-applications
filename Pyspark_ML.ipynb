{
  "nbformat": 4,
  "nbformat_minor": 0,
  "metadata": {
    "colab": {
      "provenance": []
    },
    "kernelspec": {
      "name": "python3",
      "display_name": "Python 3"
    },
    "language_info": {
      "name": "python"
    }
  },
  "cells": [
    {
      "cell_type": "code",
      "execution_count": 1,
      "metadata": {
        "colab": {
          "base_uri": "https://localhost:8080/",
          "height": 427
        },
        "id": "W6Aopvx9KJxv",
        "outputId": "d225cb60-d15f-4576-b64f-7f9e327e7528"
      },
      "outputs": [
        {
          "output_type": "stream",
          "name": "stdout",
          "text": [
            "Collecting pyspark\n",
            "  Downloading pyspark-3.5.0.tar.gz (316.9 MB)\n",
            "\u001b[2K     \u001b[90m━━━━━━━━━━━━━━━━━━━━━━━━━━━━━━━━━━━━━━━━\u001b[0m \u001b[32m316.9/316.9 MB\u001b[0m \u001b[31m2.0 MB/s\u001b[0m eta \u001b[36m0:00:00\u001b[0m\n",
            "\u001b[?25h  Preparing metadata (setup.py) ... \u001b[?25l\u001b[?25hdone\n",
            "Requirement already satisfied: py4j==0.10.9.7 in /usr/local/lib/python3.10/dist-packages (from pyspark) (0.10.9.7)\n",
            "Building wheels for collected packages: pyspark\n",
            "  Building wheel for pyspark (setup.py) ... \u001b[?25l\u001b[?25hdone\n",
            "  Created wheel for pyspark: filename=pyspark-3.5.0-py2.py3-none-any.whl size=317425345 sha256=9a5310e8700689cb4e520744f5bade3de1a6a2fd1cf6bd7b4580d29c0b07c222\n",
            "  Stored in directory: /root/.cache/pip/wheels/41/4e/10/c2cf2467f71c678cfc8a6b9ac9241e5e44a01940da8fbb17fc\n",
            "Successfully built pyspark\n",
            "Installing collected packages: pyspark\n",
            "Successfully installed pyspark-3.5.0\n"
          ]
        },
        {
          "output_type": "execute_result",
          "data": {
            "text/plain": [
              "<pyspark.sql.session.SparkSession at 0x7b632b650bb0>"
            ],
            "text/html": [
              "\n",
              "            <div>\n",
              "                <p><b>SparkSession - in-memory</b></p>\n",
              "                \n",
              "        <div>\n",
              "            <p><b>SparkContext</b></p>\n",
              "\n",
              "            <p><a href=\"http://230349b71ebe:4040\">Spark UI</a></p>\n",
              "\n",
              "            <dl>\n",
              "              <dt>Version</dt>\n",
              "                <dd><code>v3.5.0</code></dd>\n",
              "              <dt>Master</dt>\n",
              "                <dd><code>local[*]</code></dd>\n",
              "              <dt>AppName</dt>\n",
              "                <dd><code>Uygulama_ML</code></dd>\n",
              "            </dl>\n",
              "        </div>\n",
              "        \n",
              "            </div>\n",
              "        "
            ]
          },
          "metadata": {},
          "execution_count": 1
        }
      ],
      "source": [
        "!pip install pyspark\n",
        "\n",
        "import pyspark\n",
        "\n",
        "from pyspark.sql import SparkSession\n",
        "\n",
        "spark = SparkSession.builder.appName('Uygulama_ML').getOrCreate()\n",
        "\n",
        "spark"
      ]
    },
    {
      "cell_type": "code",
      "source": [
        "df=spark.read.csv(\"Linear_regression_dataset.csv\",header=True,inferSchema=True)"
      ],
      "metadata": {
        "id": "cbzyYo1OK4YT"
      },
      "execution_count": 2,
      "outputs": []
    },
    {
      "cell_type": "code",
      "source": [
        "df.show()"
      ],
      "metadata": {
        "colab": {
          "base_uri": "https://localhost:8080/"
        },
        "id": "5wdXKltOLqkM",
        "outputId": "b0d5660a-7dca-45c9-eeb0-a85bb0694cd7"
      },
      "execution_count": 3,
      "outputs": [
        {
          "output_type": "stream",
          "name": "stdout",
          "text": [
            "+-----+-----+-----+-----+-----+------+\n",
            "|var_1|var_2|var_3|var_4|var_5|output|\n",
            "+-----+-----+-----+-----+-----+------+\n",
            "|  734|  688|   81|0.328|0.259| 0.418|\n",
            "|  700|  600|   94| 0.32|0.247| 0.389|\n",
            "|  712|  705|   93|0.311|0.247| 0.417|\n",
            "|  734|  806|   69|0.315| 0.26| 0.415|\n",
            "|  613|  759|   61|0.302| 0.24| 0.378|\n",
            "|  748|  676|   85|0.318|0.255| 0.422|\n",
            "|  669|  588|   97|0.315|0.251| 0.411|\n",
            "|  667|  845|   68|0.324|0.251| 0.381|\n",
            "|  758|  890|   64| 0.33|0.274| 0.436|\n",
            "|  726|  670|   88|0.335|0.268| 0.422|\n",
            "|  583|  794|   55|0.302|0.236| 0.371|\n",
            "|  676|  746|   72|0.317|0.265|   0.4|\n",
            "|  767|  699|   89|0.332|0.274| 0.433|\n",
            "|  637|  597|   86|0.317|0.252| 0.374|\n",
            "|  609|  724|   69|0.308|0.244| 0.382|\n",
            "|  776|  733|   83|0.325|0.259| 0.437|\n",
            "|  701|  832|   66|0.325| 0.26|  0.39|\n",
            "|  650|  709|   74|0.316|0.249| 0.386|\n",
            "|  804|  668|   95|0.337|0.265| 0.453|\n",
            "|  713|  614|   94| 0.31|0.238| 0.404|\n",
            "+-----+-----+-----+-----+-----+------+\n",
            "only showing top 20 rows\n",
            "\n"
          ]
        }
      ]
    },
    {
      "cell_type": "code",
      "source": [
        "df.count()"
      ],
      "metadata": {
        "colab": {
          "base_uri": "https://localhost:8080/"
        },
        "id": "7iTUIi4CYWL9",
        "outputId": "2ab776c9-e123-44a0-869c-eeb45169b69d"
      },
      "execution_count": 24,
      "outputs": [
        {
          "output_type": "execute_result",
          "data": {
            "text/plain": [
              "1232"
            ]
          },
          "metadata": {},
          "execution_count": 24
        }
      ]
    },
    {
      "cell_type": "code",
      "source": [
        "# 5 tane özelliğe bakarak yağmur yağma olasılığını hesaplamayı varsayalım"
      ],
      "metadata": {
        "id": "_1Z5_m_ULvUP"
      },
      "execution_count": null,
      "outputs": []
    },
    {
      "cell_type": "code",
      "source": [
        "df.show(10,False)"
      ],
      "metadata": {
        "colab": {
          "base_uri": "https://localhost:8080/"
        },
        "id": "XzMQgf_FM8go",
        "outputId": "119d6b83-0268-4d0c-bb1e-7b15f0947cf9"
      },
      "execution_count": 5,
      "outputs": [
        {
          "output_type": "stream",
          "name": "stdout",
          "text": [
            "+-----+-----+-----+-----+-----+------+\n",
            "|var_1|var_2|var_3|var_4|var_5|output|\n",
            "+-----+-----+-----+-----+-----+------+\n",
            "|734  |688  |81   |0.328|0.259|0.418 |\n",
            "|700  |600  |94   |0.32 |0.247|0.389 |\n",
            "|712  |705  |93   |0.311|0.247|0.417 |\n",
            "|734  |806  |69   |0.315|0.26 |0.415 |\n",
            "|613  |759  |61   |0.302|0.24 |0.378 |\n",
            "|748  |676  |85   |0.318|0.255|0.422 |\n",
            "|669  |588  |97   |0.315|0.251|0.411 |\n",
            "|667  |845  |68   |0.324|0.251|0.381 |\n",
            "|758  |890  |64   |0.33 |0.274|0.436 |\n",
            "|726  |670  |88   |0.335|0.268|0.422 |\n",
            "+-----+-----+-----+-----+-----+------+\n",
            "only showing top 10 rows\n",
            "\n"
          ]
        }
      ]
    },
    {
      "cell_type": "code",
      "source": [
        "df.printSchema()"
      ],
      "metadata": {
        "colab": {
          "base_uri": "https://localhost:8080/"
        },
        "id": "tXsjJpyqNI8I",
        "outputId": "d6a3656b-b7ca-461e-88aa-f453e70a4a37"
      },
      "execution_count": 6,
      "outputs": [
        {
          "output_type": "stream",
          "name": "stdout",
          "text": [
            "root\n",
            " |-- var_1: integer (nullable = true)\n",
            " |-- var_2: integer (nullable = true)\n",
            " |-- var_3: integer (nullable = true)\n",
            " |-- var_4: double (nullable = true)\n",
            " |-- var_5: double (nullable = true)\n",
            " |-- output: double (nullable = true)\n",
            "\n"
          ]
        }
      ]
    },
    {
      "cell_type": "code",
      "source": [
        "df.describe().show()"
      ],
      "metadata": {
        "colab": {
          "base_uri": "https://localhost:8080/"
        },
        "id": "Ye_Vk6g6NQBG",
        "outputId": "c8a1e6ba-4051-41bc-c6cf-15a188dca8fd"
      },
      "execution_count": 7,
      "outputs": [
        {
          "output_type": "stream",
          "name": "stdout",
          "text": [
            "+-------+-----------------+-----------------+------------------+--------------------+--------------------+-------------------+\n",
            "|summary|            var_1|            var_2|             var_3|               var_4|               var_5|             output|\n",
            "+-------+-----------------+-----------------+------------------+--------------------+--------------------+-------------------+\n",
            "|  count|             1232|             1232|              1232|                1232|                1232|               1232|\n",
            "|   mean|715.0819805194806|715.0819805194806| 80.90422077922078|  0.3263311688311693| 0.25927272727272715|0.39734172077922014|\n",
            "| stddev| 91.5342940441652|93.07993263118064|11.458139049993724|0.015012772334166148|0.012907228928000298|0.03326689862173776|\n",
            "|    min|              463|              472|                40|               0.277|               0.214|              0.301|\n",
            "|    max|             1009|             1103|               116|               0.373|               0.294|              0.491|\n",
            "+-------+-----------------+-----------------+------------------+--------------------+--------------------+-------------------+\n",
            "\n"
          ]
        }
      ]
    },
    {
      "cell_type": "code",
      "source": [
        "#output=b0+b1*v_1 + b2*v_2 + b3*v_3 + b4*v_4 + b5*v_5"
      ],
      "metadata": {
        "id": "NsnCgPB_NVMB"
      },
      "execution_count": null,
      "outputs": []
    },
    {
      "cell_type": "code",
      "source": [
        "from pyspark.ml.linalg import Vector             # özellikleri bir araya getirmeye çalıştık\n",
        "from pyspark.ml.feature import VectorAssembler"
      ],
      "metadata": {
        "id": "PG0Xl3gQTAMa"
      },
      "execution_count": 12,
      "outputs": []
    },
    {
      "cell_type": "code",
      "source": [
        "vec_assemb=VectorAssembler(inputCols=[\"var_1\",\"var_2\",\"var_3\",\"var_4\",\"var_5\"],outputCol=\"features\")\n",
        "df2 = vec_assemb.transform(df)\n",
        "df2.show(10,False)"
      ],
      "metadata": {
        "colab": {
          "base_uri": "https://localhost:8080/"
        },
        "id": "yCG834zzTiz3",
        "outputId": "87abe709-fbb5-4463-c0f9-b1dda9701420"
      },
      "execution_count": 18,
      "outputs": [
        {
          "output_type": "stream",
          "name": "stdout",
          "text": [
            "+-----+-----+-----+-----+-----+------+------------------------------+\n",
            "|var_1|var_2|var_3|var_4|var_5|output|features                      |\n",
            "+-----+-----+-----+-----+-----+------+------------------------------+\n",
            "|734  |688  |81   |0.328|0.259|0.418 |[734.0,688.0,81.0,0.328,0.259]|\n",
            "|700  |600  |94   |0.32 |0.247|0.389 |[700.0,600.0,94.0,0.32,0.247] |\n",
            "|712  |705  |93   |0.311|0.247|0.417 |[712.0,705.0,93.0,0.311,0.247]|\n",
            "|734  |806  |69   |0.315|0.26 |0.415 |[734.0,806.0,69.0,0.315,0.26] |\n",
            "|613  |759  |61   |0.302|0.24 |0.378 |[613.0,759.0,61.0,0.302,0.24] |\n",
            "|748  |676  |85   |0.318|0.255|0.422 |[748.0,676.0,85.0,0.318,0.255]|\n",
            "|669  |588  |97   |0.315|0.251|0.411 |[669.0,588.0,97.0,0.315,0.251]|\n",
            "|667  |845  |68   |0.324|0.251|0.381 |[667.0,845.0,68.0,0.324,0.251]|\n",
            "|758  |890  |64   |0.33 |0.274|0.436 |[758.0,890.0,64.0,0.33,0.274] |\n",
            "|726  |670  |88   |0.335|0.268|0.422 |[726.0,670.0,88.0,0.335,0.268]|\n",
            "+-----+-----+-----+-----+-----+------+------------------------------+\n",
            "only showing top 10 rows\n",
            "\n"
          ]
        }
      ]
    },
    {
      "cell_type": "code",
      "source": [
        "df2.printSchema()  # benim artık v_1,v_2 gibi değişkenlere ihtiyacım yok feature ve output'lara ihtiyacım var."
      ],
      "metadata": {
        "colab": {
          "base_uri": "https://localhost:8080/"
        },
        "id": "5AcEFnMZU0xE",
        "outputId": "cfc5dd96-a083-4892-e3ec-5dd1c205794c"
      },
      "execution_count": 19,
      "outputs": [
        {
          "output_type": "stream",
          "name": "stdout",
          "text": [
            "root\n",
            " |-- var_1: integer (nullable = true)\n",
            " |-- var_2: integer (nullable = true)\n",
            " |-- var_3: integer (nullable = true)\n",
            " |-- var_4: double (nullable = true)\n",
            " |-- var_5: double (nullable = true)\n",
            " |-- output: double (nullable = true)\n",
            " |-- features: vector (nullable = true)\n",
            "\n"
          ]
        }
      ]
    },
    {
      "cell_type": "code",
      "source": [
        "model_df=df2.select(\"features\",\"output\")  # Data preprocessing işlemini tamamladık.\n",
        "model_df.show()"
      ],
      "metadata": {
        "colab": {
          "base_uri": "https://localhost:8080/"
        },
        "id": "eVOrVCVZWXA-",
        "outputId": "fe43ce05-b3e1-46bd-f1fc-072bec36c7aa"
      },
      "execution_count": 20,
      "outputs": [
        {
          "output_type": "stream",
          "name": "stdout",
          "text": [
            "+--------------------+------+\n",
            "|            features|output|\n",
            "+--------------------+------+\n",
            "|[734.0,688.0,81.0...| 0.418|\n",
            "|[700.0,600.0,94.0...| 0.389|\n",
            "|[712.0,705.0,93.0...| 0.417|\n",
            "|[734.0,806.0,69.0...| 0.415|\n",
            "|[613.0,759.0,61.0...| 0.378|\n",
            "|[748.0,676.0,85.0...| 0.422|\n",
            "|[669.0,588.0,97.0...| 0.411|\n",
            "|[667.0,845.0,68.0...| 0.381|\n",
            "|[758.0,890.0,64.0...| 0.436|\n",
            "|[726.0,670.0,88.0...| 0.422|\n",
            "|[583.0,794.0,55.0...| 0.371|\n",
            "|[676.0,746.0,72.0...|   0.4|\n",
            "|[767.0,699.0,89.0...| 0.433|\n",
            "|[637.0,597.0,86.0...| 0.374|\n",
            "|[609.0,724.0,69.0...| 0.382|\n",
            "|[776.0,733.0,83.0...| 0.437|\n",
            "|[701.0,832.0,66.0...|  0.39|\n",
            "|[650.0,709.0,74.0...| 0.386|\n",
            "|[804.0,668.0,95.0...| 0.453|\n",
            "|[713.0,614.0,94.0...| 0.404|\n",
            "+--------------------+------+\n",
            "only showing top 20 rows\n",
            "\n"
          ]
        }
      ]
    },
    {
      "cell_type": "code",
      "source": [
        "train_df,test_df=model_df.randomSplit([0.6,0.4])  # 1232 kayıdı train ve test olarak ikiye ayırdık"
      ],
      "metadata": {
        "id": "7ZzkGaNSW7SF"
      },
      "execution_count": 21,
      "outputs": []
    },
    {
      "cell_type": "code",
      "source": [
        "train_df.count()"
      ],
      "metadata": {
        "colab": {
          "base_uri": "https://localhost:8080/"
        },
        "id": "AgvX9biuYDtX",
        "outputId": "be778e65-f542-4500-f412-017b1d749aa2"
      },
      "execution_count": 22,
      "outputs": [
        {
          "output_type": "execute_result",
          "data": {
            "text/plain": [
              "735"
            ]
          },
          "metadata": {},
          "execution_count": 22
        }
      ]
    },
    {
      "cell_type": "code",
      "source": [
        "test_df.count()"
      ],
      "metadata": {
        "colab": {
          "base_uri": "https://localhost:8080/"
        },
        "id": "HTgsFdqeYG3-",
        "outputId": "6c1d3daf-d3d5-4f85-9f82-3aabf4d974f1"
      },
      "execution_count": 23,
      "outputs": [
        {
          "output_type": "execute_result",
          "data": {
            "text/plain": [
              "497"
            ]
          },
          "metadata": {},
          "execution_count": 23
        }
      ]
    },
    {
      "cell_type": "code",
      "source": [
        "#linear regression"
      ],
      "metadata": {
        "id": "rRGWmIFTYKNB"
      },
      "execution_count": null,
      "outputs": []
    },
    {
      "cell_type": "code",
      "source": [
        "from pyspark.ml.regression import LinearRegression"
      ],
      "metadata": {
        "id": "fAzhq8YjYiw-"
      },
      "execution_count": 25,
      "outputs": []
    },
    {
      "cell_type": "code",
      "source": [
        "linReg=LinearRegression(featuresCol=\"features\",labelCol=\"output\")"
      ],
      "metadata": {
        "id": "u0WFpMveZF-U"
      },
      "execution_count": 26,
      "outputs": []
    },
    {
      "cell_type": "code",
      "source": [
        "lr_model=linReg.fit(train_df)"
      ],
      "metadata": {
        "id": "u37bujXvZbqC"
      },
      "execution_count": 28,
      "outputs": []
    },
    {
      "cell_type": "code",
      "source": [
        "lr_model.intercept  # b0'ın değerini bulduk.\n"
      ],
      "metadata": {
        "colab": {
          "base_uri": "https://localhost:8080/"
        },
        "id": "JrEbnNneaAkE",
        "outputId": "3fa87853-7c19-4034-e75c-1333ccdf8f17"
      },
      "execution_count": 30,
      "outputs": [
        {
          "output_type": "execute_result",
          "data": {
            "text/plain": [
              "0.1879290363951085"
            ]
          },
          "metadata": {},
          "execution_count": 30
        }
      ]
    },
    {
      "cell_type": "code",
      "source": [
        "lr_model.coefficients # diğer katsayılar"
      ],
      "metadata": {
        "colab": {
          "base_uri": "https://localhost:8080/"
        },
        "id": "q2-id42vaEW0",
        "outputId": "80e68f1c-c523-4d8c-c56d-9f6b653c4733"
      },
      "execution_count": 31,
      "outputs": [
        {
          "output_type": "execute_result",
          "data": {
            "text/plain": [
              "DenseVector([0.0003, 0.0001, 0.0002, -0.6648, 0.4808])"
            ]
          },
          "metadata": {},
          "execution_count": 31
        }
      ]
    },
    {
      "cell_type": "code",
      "source": [
        "test_preds=lr_model.evaluate(test_df)"
      ],
      "metadata": {
        "id": "NlBGGXQfaWZF"
      },
      "execution_count": 32,
      "outputs": []
    },
    {
      "cell_type": "code",
      "source": [
        "test_preds.predictions.show()  # çıktı ve tahminleri karşılaştırıyoruz"
      ],
      "metadata": {
        "colab": {
          "base_uri": "https://localhost:8080/"
        },
        "id": "DoHzZJ3YbVPC",
        "outputId": "dfe9dddc-f3e6-4bc4-82dd-64514770f8fe"
      },
      "execution_count": 34,
      "outputs": [
        {
          "output_type": "stream",
          "name": "stdout",
          "text": [
            "+--------------------+------+-------------------+\n",
            "|            features|output|         prediction|\n",
            "+--------------------+------+-------------------+\n",
            "|[464.0,640.0,66.0...| 0.301| 0.3141502932175087|\n",
            "|[468.0,746.0,52.0...| 0.329| 0.3198209400790549|\n",
            "|[470.0,509.0,76.0...| 0.319|0.31150794261289483|\n",
            "|[495.0,628.0,66.0...| 0.315|0.32700893944401854|\n",
            "|[498.0,615.0,67.0...| 0.318| 0.3225354859771214|\n",
            "|[501.0,774.0,51.0...| 0.315| 0.3295827905248209|\n",
            "|[510.0,588.0,72.0...| 0.317| 0.3233630108741737|\n",
            "|[513.0,698.0,61.0...| 0.339|  0.330873096175914|\n",
            "|[514.0,549.0,81.0...| 0.339|0.32844313472800357|\n",
            "|[519.0,595.0,73.0...| 0.332|  0.327447700074572|\n",
            "|[522.0,621.0,72.0...| 0.317|0.32779996443006365|\n",
            "|[531.0,491.0,89.0...|  0.32| 0.3301862345998841|\n",
            "|[534.0,609.0,69.0...| 0.329|0.32717798933717945|\n",
            "|[536.0,531.0,83.0...| 0.318|0.32700758967386184|\n",
            "|[543.0,615.0,76.0...| 0.333| 0.3406045920876944|\n",
            "|[544.0,551.0,82.0...| 0.344|0.33616538709991617|\n",
            "|[545.0,661.0,61.0...|  0.35|0.33886489976329415|\n",
            "|[550.0,631.0,76.0...| 0.318|0.33689665495485005|\n",
            "|[554.0,536.0,77.0...| 0.339| 0.3353801527985887|\n",
            "|[556.0,674.0,62.0...| 0.348| 0.3422256735247481|\n",
            "+--------------------+------+-------------------+\n",
            "only showing top 20 rows\n",
            "\n"
          ]
        }
      ]
    },
    {
      "cell_type": "code",
      "source": [
        "print(test_preds.r2) # yordama metriği"
      ],
      "metadata": {
        "colab": {
          "base_uri": "https://localhost:8080/"
        },
        "id": "owT3Lk4Rbc6d",
        "outputId": "329e619c-dfd9-45c4-e8e5-edb9878bde73"
      },
      "execution_count": 35,
      "outputs": [
        {
          "output_type": "stream",
          "name": "stdout",
          "text": [
            "0.8764055062941604\n"
          ]
        }
      ]
    },
    {
      "cell_type": "code",
      "source": [
        "print(test_preds.meanSquaredError)  # satır başına yapılan ortalama hata"
      ],
      "metadata": {
        "colab": {
          "base_uri": "https://localhost:8080/"
        },
        "id": "L9qTRo5QcEPq",
        "outputId": "64e22773-837d-4163-d228-dc731840739e"
      },
      "execution_count": 36,
      "outputs": [
        {
          "output_type": "stream",
          "name": "stdout",
          "text": [
            "0.0001431714093796338\n"
          ]
        }
      ]
    },
    {
      "cell_type": "code",
      "source": [],
      "metadata": {
        "id": "M6hwKVltch6z"
      },
      "execution_count": null,
      "outputs": []
    }
  ]
}