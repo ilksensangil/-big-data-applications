{
  "nbformat": 4,
  "nbformat_minor": 0,
  "metadata": {
    "colab": {
      "provenance": []
    },
    "kernelspec": {
      "name": "python3",
      "display_name": "Python 3"
    },
    "language_info": {
      "name": "python"
    }
  },
  "cells": [
    {
      "cell_type": "code",
      "execution_count": 1,
      "metadata": {
        "colab": {
          "base_uri": "https://localhost:8080/",
          "height": 427
        },
        "id": "LuS_OZ6H__fC",
        "outputId": "d50660b4-9803-4f0e-b1a8-bd962dec1538"
      },
      "outputs": [
        {
          "output_type": "stream",
          "name": "stdout",
          "text": [
            "Collecting pyspark\n",
            "  Downloading pyspark-3.5.0.tar.gz (316.9 MB)\n",
            "\u001b[2K     \u001b[90m━━━━━━━━━━━━━━━━━━━━━━━━━━━━━━━━━━━━━━━━\u001b[0m \u001b[32m316.9/316.9 MB\u001b[0m \u001b[31m3.3 MB/s\u001b[0m eta \u001b[36m0:00:00\u001b[0m\n",
            "\u001b[?25h  Preparing metadata (setup.py) ... \u001b[?25l\u001b[?25hdone\n",
            "Requirement already satisfied: py4j==0.10.9.7 in /usr/local/lib/python3.10/dist-packages (from pyspark) (0.10.9.7)\n",
            "Building wheels for collected packages: pyspark\n",
            "  Building wheel for pyspark (setup.py) ... \u001b[?25l\u001b[?25hdone\n",
            "  Created wheel for pyspark: filename=pyspark-3.5.0-py2.py3-none-any.whl size=317425345 sha256=41e750a4c2d23db6953e1666373f8f4022bcefe6678336546d9f85455184f9a9\n",
            "  Stored in directory: /root/.cache/pip/wheels/41/4e/10/c2cf2467f71c678cfc8a6b9ac9241e5e44a01940da8fbb17fc\n",
            "Successfully built pyspark\n",
            "Installing collected packages: pyspark\n",
            "Successfully installed pyspark-3.5.0\n"
          ]
        },
        {
          "output_type": "execute_result",
          "data": {
            "text/plain": [
              "<pyspark.sql.session.SparkSession at 0x7f362964ca00>"
            ],
            "text/html": [
              "\n",
              "            <div>\n",
              "                <p><b>SparkSession - in-memory</b></p>\n",
              "                \n",
              "        <div>\n",
              "            <p><b>SparkContext</b></p>\n",
              "\n",
              "            <p><a href=\"http://fbae98d22277:4040\">Spark UI</a></p>\n",
              "\n",
              "            <dl>\n",
              "              <dt>Version</dt>\n",
              "                <dd><code>v3.5.0</code></dd>\n",
              "              <dt>Master</dt>\n",
              "                <dd><code>local[*]</code></dd>\n",
              "              <dt>AppName</dt>\n",
              "                <dd><code>Uygulama_2</code></dd>\n",
              "            </dl>\n",
              "        </div>\n",
              "        \n",
              "            </div>\n",
              "        "
            ]
          },
          "metadata": {},
          "execution_count": 1
        }
      ],
      "source": [
        "!pip install pyspark\n",
        "\n",
        "import pyspark\n",
        "\n",
        "from pyspark.sql import SparkSession\n",
        "\n",
        "spark = SparkSession.builder.appName('Uygulama_2').getOrCreate()\n",
        "\n",
        "spark"
      ]
    },
    {
      "cell_type": "code",
      "source": [
        "df=spark.read.csv(\"data.csv\",header=True,inferSchema=True) # header true yaptığımız için başlıkları otomatik aldı\n",
        "df.show()"
      ],
      "metadata": {
        "colab": {
          "base_uri": "https://localhost:8080/"
        },
        "id": "52gIa-VQBq27",
        "outputId": "e844d482-84bd-4c37-f340-83c2e0b6f1a1"
      },
      "execution_count": 32,
      "outputs": [
        {
          "output_type": "stream",
          "name": "stdout",
          "text": [
            "+-----+---+----------+\n",
            "| Name|Age|Experience|\n",
            "+-----+---+----------+\n",
            "| Adem| 37|        10|\n",
            "| Banu| 24|         8|\n",
            "| Esat| 46|         5|\n",
            "|Erdal| 47|         4|\n",
            "|Zehra| 33|         9|\n",
            "+-----+---+----------+\n",
            "\n"
          ]
        }
      ]
    },
    {
      "cell_type": "code",
      "source": [
        "df.printSchema() # veri tiplerini otomatik olarak algıladı."
      ],
      "metadata": {
        "colab": {
          "base_uri": "https://localhost:8080/"
        },
        "id": "SUxGI-pfCe0J",
        "outputId": "5771e9a6-8666-4c9d-ba94-d9383ca87c54"
      },
      "execution_count": 33,
      "outputs": [
        {
          "output_type": "stream",
          "name": "stdout",
          "text": [
            "root\n",
            " |-- Name: string (nullable = true)\n",
            " |-- Age: integer (nullable = true)\n",
            " |-- Experience: integer (nullable = true)\n",
            "\n"
          ]
        }
      ]
    },
    {
      "cell_type": "code",
      "source": [
        "df.select(\"Name\").show() # verinin sadece name sütununu aldık."
      ],
      "metadata": {
        "colab": {
          "base_uri": "https://localhost:8080/"
        },
        "id": "0gSBWJZ3Cg1g",
        "outputId": "b62773ce-259a-4650-c87d-3ea3eded9aa0"
      },
      "execution_count": 34,
      "outputs": [
        {
          "output_type": "stream",
          "name": "stdout",
          "text": [
            "+-----+\n",
            "| Name|\n",
            "+-----+\n",
            "| Adem|\n",
            "| Banu|\n",
            "| Esat|\n",
            "|Erdal|\n",
            "|Zehra|\n",
            "+-----+\n",
            "\n"
          ]
        }
      ]
    },
    {
      "cell_type": "code",
      "source": [
        "df.select(\"Name\",\"Age\").show()"
      ],
      "metadata": {
        "colab": {
          "base_uri": "https://localhost:8080/"
        },
        "id": "JEUdQQ9GCy90",
        "outputId": "8fd320ab-8974-4314-f5f2-dedc32595913"
      },
      "execution_count": 35,
      "outputs": [
        {
          "output_type": "stream",
          "name": "stdout",
          "text": [
            "+-----+---+\n",
            "| Name|Age|\n",
            "+-----+---+\n",
            "| Adem| 37|\n",
            "| Banu| 24|\n",
            "| Esat| 46|\n",
            "|Erdal| 47|\n",
            "|Zehra| 33|\n",
            "+-----+---+\n",
            "\n"
          ]
        }
      ]
    },
    {
      "cell_type": "code",
      "source": [
        "df2=df.select(\"Name\",\"Age\") #df2 adında yeni bir dataframe de oluşturabiliriz."
      ],
      "metadata": {
        "id": "lprcUwE1DOZT"
      },
      "execution_count": 36,
      "outputs": []
    },
    {
      "cell_type": "code",
      "source": [
        "df2.show()"
      ],
      "metadata": {
        "colab": {
          "base_uri": "https://localhost:8080/"
        },
        "id": "B-0isUXVDgYa",
        "outputId": "b6bad662-1fff-4a8e-e909-debcf841a546"
      },
      "execution_count": 37,
      "outputs": [
        {
          "output_type": "stream",
          "name": "stdout",
          "text": [
            "+-----+---+\n",
            "| Name|Age|\n",
            "+-----+---+\n",
            "| Adem| 37|\n",
            "| Banu| 24|\n",
            "| Esat| 46|\n",
            "|Erdal| 47|\n",
            "|Zehra| 33|\n",
            "+-----+---+\n",
            "\n"
          ]
        }
      ]
    },
    {
      "cell_type": "code",
      "source": [
        "df.collect()[2] # 3.sıradaki veriyi getirdik."
      ],
      "metadata": {
        "colab": {
          "base_uri": "https://localhost:8080/"
        },
        "id": "Ddhp5xJWDicu",
        "outputId": "b28e520d-fea4-4b90-f725-55361c3623e9"
      },
      "execution_count": 38,
      "outputs": [
        {
          "output_type": "execute_result",
          "data": {
            "text/plain": [
              "Row(Name='Esat', Age=46, Experience=5)"
            ]
          },
          "metadata": {},
          "execution_count": 38
        }
      ]
    },
    {
      "cell_type": "code",
      "source": [
        "df.describe().show()"
      ],
      "metadata": {
        "colab": {
          "base_uri": "https://localhost:8080/"
        },
        "id": "lw3DozNwEIUS",
        "outputId": "66d68ccf-a188-4da6-ac7d-59ff9716d06c"
      },
      "execution_count": 39,
      "outputs": [
        {
          "output_type": "stream",
          "name": "stdout",
          "text": [
            "+-------+-----+-----------------+-----------------+\n",
            "|summary| Name|              Age|       Experience|\n",
            "+-------+-----+-----------------+-----------------+\n",
            "|  count|    5|                5|                5|\n",
            "|   mean| NULL|             37.4|              7.2|\n",
            "| stddev| NULL|9.555103348473002|2.588435821108957|\n",
            "|    min| Adem|               24|                4|\n",
            "|    max|Zehra|               47|               10|\n",
            "+-------+-----+-----------------+-----------------+\n",
            "\n"
          ]
        }
      ]
    },
    {
      "cell_type": "code",
      "source": [
        "df.select(\"Age\").describe().show()# sadece age sütununun özetini verir"
      ],
      "metadata": {
        "colab": {
          "base_uri": "https://localhost:8080/"
        },
        "id": "lhBS4fZJEp5A",
        "outputId": "a5f8e6a7-b0df-4aba-9008-5e313762c3cd"
      },
      "execution_count": 40,
      "outputs": [
        {
          "output_type": "stream",
          "name": "stdout",
          "text": [
            "+-------+-----------------+\n",
            "|summary|              Age|\n",
            "+-------+-----------------+\n",
            "|  count|                5|\n",
            "|   mean|             37.4|\n",
            "| stddev|9.555103348473002|\n",
            "|    min|               24|\n",
            "|    max|               47|\n",
            "+-------+-----------------+\n",
            "\n"
          ]
        }
      ]
    },
    {
      "cell_type": "code",
      "source": [
        "df3=df.withColumn(\"age after 2 years \",df[\"Age\"]+2)# 2 yıl sonraki yaşı veren sütunu oluşturduk\n",
        "df3.show()                                         #sütunun içine şimdiki yaş verilerine 2 eklemesini istedik."
      ],
      "metadata": {
        "colab": {
          "base_uri": "https://localhost:8080/"
        },
        "id": "udv4E3kwFuGL",
        "outputId": "f1ae56d9-7145-41e5-b5e9-fdae110d2d9b"
      },
      "execution_count": 41,
      "outputs": [
        {
          "output_type": "stream",
          "name": "stdout",
          "text": [
            "+-----+---+----------+------------------+\n",
            "| Name|Age|Experience|age after 2 years |\n",
            "+-----+---+----------+------------------+\n",
            "| Adem| 37|        10|                39|\n",
            "| Banu| 24|         8|                26|\n",
            "| Esat| 46|         5|                48|\n",
            "|Erdal| 47|         4|                49|\n",
            "|Zehra| 33|         9|                35|\n",
            "+-----+---+----------+------------------+\n",
            "\n"
          ]
        }
      ]
    },
    {
      "cell_type": "code",
      "source": [
        "df4=df3.drop(\"Age\") # eski age sütununu attık."
      ],
      "metadata": {
        "id": "ikjUmMgfGfWJ"
      },
      "execution_count": 42,
      "outputs": []
    },
    {
      "cell_type": "code",
      "source": [
        "df4.show()"
      ],
      "metadata": {
        "colab": {
          "base_uri": "https://localhost:8080/"
        },
        "id": "Zxe54L4qGrSx",
        "outputId": "ea8f21bc-0a0a-4eed-8b84-1ff96fc925c1"
      },
      "execution_count": 43,
      "outputs": [
        {
          "output_type": "stream",
          "name": "stdout",
          "text": [
            "+-----+----------+------------------+\n",
            "| Name|Experience|age after 2 years |\n",
            "+-----+----------+------------------+\n",
            "| Adem|        10|                39|\n",
            "| Banu|         8|                26|\n",
            "| Esat|         5|                48|\n",
            "|Erdal|         4|                49|\n",
            "|Zehra|         9|                35|\n",
            "+-----+----------+------------------+\n",
            "\n"
          ]
        }
      ]
    },
    {
      "cell_type": "code",
      "source": [],
      "metadata": {
        "id": "Ra83MdwSHPOQ"
      },
      "execution_count": 54,
      "outputs": []
    }
  ]
}